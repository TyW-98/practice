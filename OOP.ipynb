{
 "cells": [
  {
   "cell_type": "code",
   "execution_count": 1,
   "metadata": {},
   "outputs": [],
   "source": [
    "class UserID:\n",
    "    \n",
    "    Add_level = 1.10\n",
    "    \n",
    "    def __init__(self,name,player_level = 1):\n",
    "        self.name = name\n",
    "        self.player_level = player_level\n",
    "        \n",
    "    def __repr__(self):\n",
    "        return f\"Player name = {self.name}, Player level = {self.player_level}\"\n",
    "    \n",
    "    def __str__(self):\n",
    "        return f\"{self.name} is level {self.player_level}\"\n",
    "    \n",
    "    def __add__(self, other):\n",
    "        return self.player_level + other.player_level\n",
    "    \n",
    "    def __len__(self):\n",
    "        return len(self.name)\n",
    "    \n",
    "    def Userinfo(self):\n",
    "        return f\"This is the user Info userID {self.name}, level {self.player_level}\"\n",
    "    \n",
    "    def Increase_level(self):\n",
    "        self.player_level = int(self.player_level * self.Add_level)\n",
    "        return f\"Your level is now {self.player_level}\"\n",
    "    \n",
    "Player1 = UserID(\"User1\", 1000)\n",
    "\n",
    "Player2 = UserID(\"User2\", 500)"
   ]
  },
  {
   "cell_type": "code",
   "execution_count": 2,
   "metadata": {},
   "outputs": [
    {
     "name": "stdout",
     "output_type": "stream",
     "text": [
      "User1 is level 1000\n"
     ]
    }
   ],
   "source": [
    "print(Player1)"
   ]
  },
  {
   "cell_type": "code",
   "execution_count": 3,
   "metadata": {},
   "outputs": [
    {
     "name": "stdout",
     "output_type": "stream",
     "text": [
      "Player name = User1, Player level = 1000\n",
      "User1 is level 1000\n"
     ]
    }
   ],
   "source": [
    "print(repr(Player1))\n",
    "print(str(Player1))"
   ]
  },
  {
   "cell_type": "code",
   "execution_count": 4,
   "metadata": {},
   "outputs": [
    {
     "name": "stdout",
     "output_type": "stream",
     "text": [
      "1500\n"
     ]
    }
   ],
   "source": [
    "print(Player1 + Player2)"
   ]
  },
  {
   "cell_type": "code",
   "execution_count": 5,
   "metadata": {},
   "outputs": [
    {
     "data": {
      "text/plain": [
       "'Your level is now 1100'"
      ]
     },
     "execution_count": 5,
     "metadata": {},
     "output_type": "execute_result"
    }
   ],
   "source": [
    "Player1.Increase_level()"
   ]
  },
  {
   "cell_type": "code",
   "execution_count": 6,
   "metadata": {},
   "outputs": [
    {
     "name": "stdout",
     "output_type": "stream",
     "text": [
      "5\n"
     ]
    }
   ],
   "source": [
    "print(len(Player1))"
   ]
  },
  {
   "cell_type": "code",
   "execution_count": 7,
   "metadata": {},
   "outputs": [],
   "source": [
    "class UserChampions(UserID):\n",
    "    def add_champ(self,champ):\n",
    "        self.champ = champ\n",
    "        \n",
    "    def champ_name(self):\n",
    "        return f'Your Champion is {self.champ}'\n",
    "\n",
    "    \n",
    "Player3 = UserChampions(\"User3\",500)\n",
    "        "
   ]
  },
  {
   "cell_type": "code",
   "execution_count": 8,
   "metadata": {},
   "outputs": [
    {
     "name": "stdout",
     "output_type": "stream",
     "text": [
      "User3 is level 500\n"
     ]
    }
   ],
   "source": [
    "print(Player3)"
   ]
  },
  {
   "cell_type": "code",
   "execution_count": 9,
   "metadata": {},
   "outputs": [],
   "source": [
    "Player3.add_champ(\"Valkyrie\")"
   ]
  },
  {
   "cell_type": "code",
   "execution_count": 10,
   "metadata": {},
   "outputs": [
    {
     "data": {
      "text/plain": [
       "'Your Champion is Valkyrie'"
      ]
     },
     "execution_count": 10,
     "metadata": {},
     "output_type": "execute_result"
    }
   ],
   "source": [
    "Player3.champ_name()"
   ]
  },
  {
   "cell_type": "code",
   "execution_count": 11,
   "metadata": {},
   "outputs": [
    {
     "name": "stdout",
     "output_type": "stream",
     "text": [
      "User3 is level 500\n"
     ]
    }
   ],
   "source": [
    "print(Player3)"
   ]
  },
  {
   "cell_type": "code",
   "execution_count": 12,
   "metadata": {},
   "outputs": [],
   "source": [
    "import numpy as np\n",
    "\n",
    "class Cylinder():\n",
    "    def __init__(self,height,radius = 1):\n",
    "        self.height = int(height)\n",
    "        self.radius = int(radius)\n",
    "        self.surface_area = None\n",
    "        self.volume = None\n",
    "        \n",
    "    def get_surface_area(self):\n",
    "        self.surface_area = round((2*np.pi*self.radius*self.height) + (2*np.pi*pow(self.radius,2)),2)\n",
    "        \n",
    "    def get_volume(self):\n",
    "        self.volume = round(np.pi*pow(self.radius,2)*self.height,2)"
   ]
  },
  {
   "cell_type": "code",
   "execution_count": 13,
   "metadata": {},
   "outputs": [],
   "source": [
    "cyc1 = Cylinder(5,1)"
   ]
  },
  {
   "cell_type": "code",
   "execution_count": 14,
   "metadata": {},
   "outputs": [],
   "source": [
    "cyc1.get_surface_area()"
   ]
  },
  {
   "cell_type": "code",
   "execution_count": 15,
   "metadata": {},
   "outputs": [],
   "source": [
    "cyc1.get_volume()"
   ]
  },
  {
   "cell_type": "code",
   "execution_count": 16,
   "metadata": {},
   "outputs": [
    {
     "name": "stdout",
     "output_type": "stream",
     "text": [
      "37.7\n"
     ]
    }
   ],
   "source": [
    "print(cyc1.surface_area)"
   ]
  },
  {
   "cell_type": "code",
   "execution_count": 17,
   "metadata": {},
   "outputs": [],
   "source": [
    "class car:\n",
    "    \n",
    "    def __init__(self,model,year = 2022):\n",
    "        self.model = model\n",
    "        self.year = year\n",
    "        self.miles_driven = 0\n",
    "        \n",
    "    def drive(self):\n",
    "        self.miles_driven += 1\n",
    "        return f\"vroom {self.miles_driven}\"\n",
    "    \n",
    "    def info(self):\n",
    "        return f\"{self.miles_driven}, {self.model}, {self.year}\"\n",
    "    \n",
    "    "
   ]
  },
  {
   "cell_type": "code",
   "execution_count": 18,
   "metadata": {},
   "outputs": [],
   "source": [
    "car1 = car(\"Tesla\")"
   ]
  },
  {
   "cell_type": "code",
   "execution_count": 19,
   "metadata": {},
   "outputs": [
    {
     "data": {
      "text/plain": [
       "'0, Tesla, 2022'"
      ]
     },
     "execution_count": 19,
     "metadata": {},
     "output_type": "execute_result"
    }
   ],
   "source": [
    "car1.info()"
   ]
  },
  {
   "cell_type": "code",
   "execution_count": 20,
   "metadata": {},
   "outputs": [
    {
     "data": {
      "text/plain": [
       "'vroom 1'"
      ]
     },
     "execution_count": 20,
     "metadata": {},
     "output_type": "execute_result"
    }
   ],
   "source": [
    "car1.drive()"
   ]
  },
  {
   "cell_type": "code",
   "execution_count": 21,
   "metadata": {},
   "outputs": [],
   "source": [
    "import math\n",
    "\n",
    "class Vector:\n",
    "    \n",
    "    def __init__(self,*arg):\n",
    "        self.numbers = list(arg)\n",
    "        \n",
    "    def __repr__(self):\n",
    "        return f\"{self.numbers}\"\n",
    "    \n",
    "    def __add__(self,vec2):\n",
    "        self.total = self.numbers + vec2.numbers\n",
    "        return sum(self.total)\n",
    "    \n",
    "    def __gt__(self,vec2):\n",
    "        self.magnitude = math.sqrt(self.numbers[0]^2 + self.numbers[1]^2)\n",
    "        vec2.magnitude = math.sqrt(vec2.numbers[0]^2 + vec2.numbers[1]^2)\n",
    "        \n",
    "        return self.magnitude > vec2.magnitude\n",
    "        \n",
    "        \n",
    "    def idx(self,loc):\n",
    "        return self.numbers[int(loc)]\n",
    "        "
   ]
  },
  {
   "cell_type": "code",
   "execution_count": 22,
   "metadata": {},
   "outputs": [],
   "source": [
    "vc1 = Vector(1,2)"
   ]
  },
  {
   "cell_type": "code",
   "execution_count": 23,
   "metadata": {},
   "outputs": [],
   "source": [
    "vc2 = Vector(4,5)"
   ]
  },
  {
   "cell_type": "code",
   "execution_count": 24,
   "metadata": {},
   "outputs": [
    {
     "name": "stdout",
     "output_type": "stream",
     "text": [
      "12\n"
     ]
    }
   ],
   "source": [
    "print(vc1 + vc2)"
   ]
  },
  {
   "cell_type": "code",
   "execution_count": 25,
   "metadata": {},
   "outputs": [
    {
     "name": "stdout",
     "output_type": "stream",
     "text": [
      "True\n"
     ]
    }
   ],
   "source": [
    "print(vc1 > vc2)"
   ]
  },
  {
   "cell_type": "code",
   "execution_count": 26,
   "metadata": {},
   "outputs": [
    {
     "data": {
      "text/plain": [
       "1"
      ]
     },
     "execution_count": 26,
     "metadata": {},
     "output_type": "execute_result"
    }
   ],
   "source": [
    "vc1.idx(0)"
   ]
  },
  {
   "cell_type": "code",
   "execution_count": 210,
   "metadata": {},
   "outputs": [],
   "source": [
    "from datetime import date\n",
    "\n",
    "class Person:\n",
    "    \n",
    "    def __init__(self, name,year, month, date, friends = None):\n",
    "        self.name = name\n",
    "        self.year = year\n",
    "        self.dob = \"%04d-%02d-%02d\" % (year,month,date)\n",
    "        if friends is None:\n",
    "            self.friends = []\n",
    "        else:\n",
    "            self.friends = [friends.name]\n",
    "            friends.friends.append(self.name)\n",
    "        \n",
    "    def __str__(self):\n",
    "        return f\"name = {self.name}, DOB = {self.dob}, Friends = {self.friends}\"\n",
    "    \n",
    "    def __gt__(self,person2):\n",
    "        return date.today().year - self.year > date.today().year - person2.year\n",
    "    \n",
    "    def add_friends(self,person2):\n",
    "        if person2 not in self.friends:\n",
    "            self.friends.append(person2.name)\n",
    "            \n",
    "            if self not in person2.friends:\n",
    "                person2.friends.append(self.name)"
   ]
  },
  {
   "cell_type": "code",
   "execution_count": 211,
   "metadata": {},
   "outputs": [],
   "source": [
    "p1 = Person(\"LOL\",1999,23,12)"
   ]
  },
  {
   "cell_type": "code",
   "execution_count": 212,
   "metadata": {},
   "outputs": [
    {
     "name": "stdout",
     "output_type": "stream",
     "text": [
      "name = LOL, DOB = 1999-23-12, Friends = []\n"
     ]
    }
   ],
   "source": [
    "print(p1)"
   ]
  },
  {
   "cell_type": "code",
   "execution_count": 213,
   "metadata": {},
   "outputs": [],
   "source": [
    "p2 = Person(\"ABC\",2005,1,5)"
   ]
  },
  {
   "cell_type": "code",
   "execution_count": 214,
   "metadata": {},
   "outputs": [
    {
     "name": "stdout",
     "output_type": "stream",
     "text": [
      "True\n"
     ]
    }
   ],
   "source": [
    "print(p1 >p2)"
   ]
  },
  {
   "cell_type": "code",
   "execution_count": 215,
   "metadata": {},
   "outputs": [],
   "source": [
    "p1.add_friends(p2)"
   ]
  },
  {
   "cell_type": "code",
   "execution_count": 216,
   "metadata": {},
   "outputs": [
    {
     "name": "stdout",
     "output_type": "stream",
     "text": [
      "name = LOL, DOB = 1999-23-12, Friends = ['ABC']\n"
     ]
    }
   ],
   "source": [
    "print(p1)"
   ]
  },
  {
   "cell_type": "code",
   "execution_count": 217,
   "metadata": {},
   "outputs": [
    {
     "name": "stdout",
     "output_type": "stream",
     "text": [
      "name = ABC, DOB = 2005-01-05, Friends = ['LOL']\n"
     ]
    }
   ],
   "source": [
    "print(p2)"
   ]
  },
  {
   "cell_type": "code",
   "execution_count": 218,
   "metadata": {},
   "outputs": [],
   "source": [
    "p3 = Person(\"HEllo\",1994,5,4,p1)"
   ]
  },
  {
   "cell_type": "code",
   "execution_count": 219,
   "metadata": {},
   "outputs": [
    {
     "name": "stdout",
     "output_type": "stream",
     "text": [
      "name = HEllo, DOB = 1994-05-04, Friends = ['LOL']\n"
     ]
    }
   ],
   "source": [
    "print(p3)"
   ]
  },
  {
   "cell_type": "code",
   "execution_count": 220,
   "metadata": {},
   "outputs": [
    {
     "name": "stdout",
     "output_type": "stream",
     "text": [
      "name = LOL, DOB = 1999-23-12, Friends = ['ABC', 'HEllo']\n"
     ]
    }
   ],
   "source": [
    "print(p1)"
   ]
  },
  {
   "cell_type": "code",
   "execution_count": 221,
   "metadata": {},
   "outputs": [],
   "source": [
    "p3.add_friends(p2)"
   ]
  },
  {
   "cell_type": "code",
   "execution_count": 222,
   "metadata": {},
   "outputs": [
    {
     "name": "stdout",
     "output_type": "stream",
     "text": [
      "name = HEllo, DOB = 1994-05-04, Friends = ['LOL', 'ABC']\n"
     ]
    }
   ],
   "source": [
    "print(p3)"
   ]
  },
  {
   "cell_type": "code",
   "execution_count": 223,
   "metadata": {},
   "outputs": [],
   "source": [
    "class Shape:\n",
    "    \n",
    "    def __init__(self, num_sides):\n",
    "        if self.num_sides == 0:\n",
    "            return f\" Invalid number of sides of the shape must be greater than 0\"\n",
    "        else:\n",
    "            self.num_sides = num_sides\n",
    "            \n",
    "    def get_info(self):\n",
    "        return f\"This shape have {self.num_sides} number of sides to it\"\n",
    "\n"
   ]
  },
  {
   "cell_type": "code",
   "execution_count": 227,
   "metadata": {},
   "outputs": [
    {
     "name": "stdout",
     "output_type": "stream",
     "text": [
      "<function Shape.get_info at 0x00000266228028C0>\n"
     ]
    }
   ],
   "source": []
  },
  {
   "cell_type": "code",
   "execution_count": null,
   "metadata": {},
   "outputs": [],
   "source": []
  }
 ],
 "metadata": {
  "kernelspec": {
   "display_name": "Python 3.10.6 ('AiCore')",
   "language": "python",
   "name": "python3"
  },
  "language_info": {
   "codemirror_mode": {
    "name": "ipython",
    "version": 3
   },
   "file_extension": ".py",
   "mimetype": "text/x-python",
   "name": "python",
   "nbconvert_exporter": "python",
   "pygments_lexer": "ipython3",
   "version": "3.10.6"
  },
  "orig_nbformat": 4,
  "vscode": {
   "interpreter": {
    "hash": "93679613e3cebab5e8a511853664dad7f420d124da3050670fb8bb4cc769be6a"
   }
  }
 },
 "nbformat": 4,
 "nbformat_minor": 2
}
