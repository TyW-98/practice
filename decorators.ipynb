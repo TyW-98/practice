{
 "cells": [
  {
   "cell_type": "code",
   "execution_count": 6,
   "metadata": {},
   "outputs": [
    {
     "name": "stdout",
     "output_type": "stream",
     "text": [
      "inner_function started running\n",
      "This is the inner function\n",
      "inner_function Terminates here\n"
     ]
    }
   ],
   "source": [
    "def start_end(func):\n",
    "    \n",
    "    def wrapper(*args):\n",
    "        print(func.__name__, \"started running\")\n",
    "        inner_func = func(*args)\n",
    "        print(func.__name__, \"Terminates here\")\n",
    "        return inner_func\n",
    "    \n",
    "    return wrapper\n",
    "\n",
    "@start_end\n",
    "def inner_function():\n",
    "    print(\"This is the inner function\")\n",
    "    \n",
    "func1 = inner_function()\n",
    "    "
   ]
  },
  {
   "cell_type": "code",
   "execution_count": 7,
   "metadata": {},
   "outputs": [
    {
     "name": "stdout",
     "output_type": "stream",
     "text": [
      "wrapper started running\n",
      "This is the inner function\n",
      "The total run time is 0.0\n",
      "wrapper Terminates here\n"
     ]
    }
   ],
   "source": [
    "import time\n",
    "\n",
    "def timer(func):\n",
    "    \n",
    "    def wrapper(*args):\n",
    "        start_time = time.time()\n",
    "        func()\n",
    "        end_time = time.time()\n",
    "        total_run_time = end_time - start_time\n",
    "        print(f\"The total run time is {total_run_time}\")\n",
    "        \n",
    "    return wrapper\n",
    "\n",
    "@start_end\n",
    "@timer \n",
    "def inner_function():\n",
    "    print(\"This is the inner function\")\n",
    "    \n",
    "func2 = inner_function()\n",
    "    "
   ]
  },
  {
   "cell_type": "code",
   "execution_count": 8,
   "metadata": {},
   "outputs": [
    {
     "name": "stdout",
     "output_type": "stream",
     "text": [
      "The first word is : ABC\n",
      "0\n",
      "1\n",
      "2\n",
      "3\n",
      "4\n",
      "5\n",
      "6\n",
      "7\n",
      "8\n",
      "9\n",
      "The second word is : DEF\n"
     ]
    }
   ],
   "source": [
    "def word_print_deco(word1, word2):\n",
    "    \n",
    "    def deco_inner(func):\n",
    "            \n",
    "        def wrapper(*args):\n",
    "            print(f\"The first word is : {word1}\")\n",
    "            func(*args)\n",
    "            print(f\"The second word is : {word2}\")\n",
    "            \n",
    "        return wrapper\n",
    "    \n",
    "    return deco_inner\n",
    "\n",
    "@word_print_deco(\"ABC\",\"DEF\")\n",
    "def my_function2(num):\n",
    "    for n in range(num):\n",
    "        print(n)\n",
    "        \n",
    "test_function2 = my_function2(10)\n",
    "        \n",
    "    "
   ]
  },
  {
   "cell_type": "code",
   "execution_count": 9,
   "metadata": {},
   "outputs": [
    {
     "name": "stdout",
     "output_type": "stream",
     "text": [
      "**********\n",
      "%%%%%%%%%%\n",
      "0\n",
      "1\n",
      "2\n",
      "3\n",
      "4\n",
      "5\n",
      "6\n",
      "7\n",
      "8\n",
      "9\n",
      "%%%%%%%%%%\n",
      "**********\n"
     ]
    }
   ],
   "source": [
    "def star_deco(func):\n",
    "    \n",
    "    def wrapper(*args):\n",
    "        print(\"**********\")\n",
    "        func(*args)\n",
    "        print(\"**********\")\n",
    "        \n",
    "    return wrapper\n",
    "\n",
    "def percent_deco(func):\n",
    "    \n",
    "    def wrapper(*args):\n",
    "        print(\"%%%%%%%%%%\")\n",
    "        func(*args)\n",
    "        print(\"%%%%%%%%%%\")\n",
    "    \n",
    "    return wrapper\n",
    "\n",
    "@star_deco\n",
    "@percent_deco\n",
    "def my_function2(num):\n",
    "    for n in range(num):\n",
    "        print(n)\n",
    "        \n",
    "test_function2 = my_function2(10)"
   ]
  },
  {
   "cell_type": "code",
   "execution_count": 11,
   "metadata": {},
   "outputs": [],
   "source": [
    "def save_func_deco(func):\n",
    "    \n",
    "    def wrapper(*args):\n",
    "        with open(\"deco_save.txt\",\"w\") as file1:\n",
    "            file1.write(func())\n",
    "            \n",
    "    return wrapper\n",
    "\n",
    "@save_func_deco\n",
    "def my_function3():\n",
    "    return \"Save this function\"\n",
    "\n",
    "test_function3 = my_function3()"
   ]
  },
  {
   "cell_type": "code",
   "execution_count": 1,
   "metadata": {},
   "outputs": [
    {
     "name": "stdout",
     "output_type": "stream",
     "text": [
      "Your job title is Cook and the start date is 12/10/2022 till 31/05/2023\n",
      "Your job title is Cook and the start date is 12/10/2022 till 31/05/2023\n"
     ]
    }
   ],
   "source": [
    "def with_job_title(func):\n",
    "    \n",
    "    def wrapper(*args,**kwargs):\n",
    "        \n",
    "        job_title = \"Cook\"\n",
    "        return func(job_title,*args,**kwargs)\n",
    "    \n",
    "    return wrapper\n",
    "\n",
    "@with_job_title\n",
    "def job_func(job_title,start_date,finish_date):\n",
    "    return f\"Your job title is {job_title} and the start date is {start_date} till {finish_date}\"\n",
    "\n",
    "job_list = [\"12/10/2022\",\"31/05/2023\"]\n",
    "job_dict = {\"start_date\":\"12/10/2022\",\"finish_date\":\"31/05/2023\"}\n",
    "\n",
    "test_function4 = job_func(*job_list)\n",
    "print(test_function4)\n",
    "\n",
    "test_function5 = job_func(**job_dict)\n",
    "print(test_function5)"
   ]
  },
  {
   "cell_type": "code",
   "execution_count": 25,
   "metadata": {},
   "outputs": [
    {
     "name": "stdout",
     "output_type": "stream",
     "text": [
      "Storing temperature value\n",
      "The temperature is 10\n",
      "Deleting temperature value\n",
      "Storing temperature value\n",
      "The temperature is -12.222222222222223\n",
      "temperature(temp=-12.222222222222223)\n",
      "Storing temperature value\n",
      "<class '__main__.temperature'>\n"
     ]
    }
   ],
   "source": [
    "from dataclasses import dataclass\n",
    "\n",
    "@dataclass(order=True)\n",
    "class temperature:\n",
    "    \"\"\"The temperature converter\n",
    "    \n",
    "    This class uses the dataclass from dataclasses to create the class and it comes with the __init__,\n",
    "    __repr__ and __eq__ methods.\n",
    "    \n",
    "    Attributes:\n",
    "        temp (int): The temeperature value \n",
    "    \"\"\"\n",
    "    temp: int\n",
    "    \n",
    "    @property\n",
    "    def temp(self):\n",
    "        print(f\"The temperature is {self.__temp}\")\n",
    "        return self.__temp\n",
    "    \n",
    "    @temp.setter\n",
    "    def temp(self,temp):\n",
    "        print(\"Storing temperature value\")\n",
    "        self.__temp = temp\n",
    "        \n",
    "    @temp.deleter\n",
    "    def temp(self):\n",
    "        print(\"Deleting temperature value\")\n",
    "        del self.__temp\n",
    "        \n",
    "    def temp_fahrenheit(self):\n",
    "        \"\"\" Converts temperature to fahrenheit\n",
    "        \n",
    "        Takes in temeperature in celsius and converts it to fahrenheit\n",
    "        \n",
    "        Returns:\n",
    "            The return value is the temperature in fahrenheit\n",
    "        \n",
    "        \"\"\"\n",
    "        fahrenheit = (self.__temp*(9/5))+ 32\n",
    "        return fahrenheit\n",
    "    \n",
    "    @staticmethod\n",
    "    def temp_celsius(temp):\n",
    "        celsius = (int(temp)-32)*(5/9)\n",
    "        return celsius\n",
    "        \n",
    "    @staticmethod\n",
    "    def temp_checker(temp):\n",
    "        if temp > -273 and temp < 3000:\n",
    "            return True\n",
    "        else:\n",
    "            return False\n",
    "        \n",
    "    @classmethod\n",
    "    def temp_fahren(cls,fahren_temp):\n",
    "        temp_fahren = cls.temp_celsius(fahren_temp)\n",
    "        return cls(temp_fahren)\n",
    "        \n",
    "        \n",
    "    @classmethod\n",
    "    def standard(cls,celsius = 0):\n",
    "        standard_temp = cls(celsius)\n",
    "        return standard_temp\n",
    "        \n",
    "        \n",
    "temp_1 = temperature(10)\n",
    "temp_1.temp\n",
    "temp_1.temp_fahrenheit()\n",
    "temp_1.temp_celsius(10)\n",
    "temp_1.temp_checker(500)\n",
    "del temp_1.temp\n",
    "\n",
    "temp_2 = temperature.temp_fahren(10)\n",
    "print(temp_2)\n",
    "\n",
    "temp_3 = temperature.standard()\n",
    "print(type(temp_3))"
   ]
  },
  {
   "cell_type": "code",
   "execution_count": null,
   "metadata": {},
   "outputs": [],
   "source": []
  }
 ],
 "metadata": {
  "kernelspec": {
   "display_name": "Python 3.10.8 ('AiCore')",
   "language": "python",
   "name": "python3"
  },
  "language_info": {
   "codemirror_mode": {
    "name": "ipython",
    "version": 3
   },
   "file_extension": ".py",
   "mimetype": "text/x-python",
   "name": "python",
   "nbconvert_exporter": "python",
   "pygments_lexer": "ipython3",
   "version": "3.10.8"
  },
  "orig_nbformat": 4,
  "vscode": {
   "interpreter": {
    "hash": "93679613e3cebab5e8a511853664dad7f420d124da3050670fb8bb4cc769be6a"
   }
  }
 },
 "nbformat": 4,
 "nbformat_minor": 2
}
