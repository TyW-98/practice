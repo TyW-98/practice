{
 "cells": [
  {
   "cell_type": "code",
   "execution_count": 1,
   "metadata": {},
   "outputs": [
    {
     "name": "stdout",
     "output_type": "stream",
     "text": [
      "This print statement was created in Python\n"
     ]
    }
   ],
   "source": [
    "print(\"This print statement was created in Python\")"
   ]
  },
  {
   "cell_type": "code",
   "execution_count": 2,
   "metadata": {},
   "outputs": [
    {
     "name": "stdout",
     "output_type": "stream",
     "text": [
      "100\n"
     ]
    }
   ],
   "source": [
    "age = 100\n",
    "\n",
    "print(age)"
   ]
  },
  {
   "cell_type": "code",
   "execution_count": 3,
   "metadata": {},
   "outputs": [
    {
     "name": "stdout",
     "output_type": "stream",
     "text": [
      "24.97\n"
     ]
    }
   ],
   "source": [
    "tomatoes = 0.87\n",
    "sponges_10 = 0.50\n",
    "juice = 1.89\n",
    "foil_30m = 1.29\n",
    "sugar_500g = 1.09\n",
    "\n",
    "sugar_1kg = sugar_500g*2\n",
    "sponges_20 = sponges_10*2\n",
    "juice_3l = juice*2\n",
    "tomatoes_2 = tomatoes*2\n",
    "\n",
    "total = 5*(tomatoes+3*(sponges_10/10)+juice+20*(foil_30m/30)+180*(sugar_500g/500))\n",
    "\n",
    "total = round(total * 1.20,2)\n",
    "\n",
    "print(total)"
   ]
  },
  {
   "cell_type": "code",
   "execution_count": 4,
   "metadata": {},
   "outputs": [
    {
     "name": "stdout",
     "output_type": "stream",
     "text": [
      "The volume of cuboid is 1562.5 and the surface area is 1214.29\n",
      "The volume of cone is 94.25 and the surface area is 126.67\n"
     ]
    }
   ],
   "source": [
    "import math\n",
    "\n",
    "h_cub = 25/7\n",
    "w_cub = 25/2\n",
    "l_cub = 35\n",
    "\n",
    "h_cone = 10\n",
    "r_cone = 3\n",
    "\n",
    "cuboid_volume = h_cub*w_cub*l_cub\n",
    "cuboid_surface_area = 2*((l_cub*w_cub)+ (l_cub*h_cub)+(h_cub*w_cub))\n",
    "\n",
    "cone_volume = math.pi*r_cone**2*h_cone/3\n",
    "cone_surface_area = math.pi*r_cone*(r_cone + math.sqrt(h_cone**2 + r_cone**2))\n",
    "\n",
    "\n",
    "print(f\"The volume of cuboid is {round(cuboid_volume,2)} and the surface area is {round(cuboid_surface_area,2)}\")\n",
    "print(f\"The volume of cone is {round(cone_volume,2)} and the surface area is {round(cone_surface_area,2)}\")"
   ]
  },
  {
   "cell_type": "code",
   "execution_count": 5,
   "metadata": {},
   "outputs": [
    {
     "name": "stdout",
     "output_type": "stream",
     "text": [
      "45\n"
     ]
    }
   ],
   "source": [
    "long_word = 'Pneumonoultramicroscopicsilicovolcanoconiosis'\n",
    "\n",
    "print(len(long_word))"
   ]
  },
  {
   "cell_type": "code",
   "execution_count": 6,
   "metadata": {},
   "outputs": [
    {
     "name": "stdout",
     "output_type": "stream",
     "text": [
      "P\n",
      "s\n",
      "sP\n"
     ]
    }
   ],
   "source": [
    "first_c = long_word[0]\n",
    "\n",
    "print(first_c)\n",
    "\n",
    "last_c = long_word[-1]\n",
    "\n",
    "print(last_c)\n",
    "\n",
    "print(last_c + first_c)"
   ]
  },
  {
   "cell_type": "code",
   "execution_count": 7,
   "metadata": {},
   "outputs": [
    {
     "name": "stdout",
     "output_type": "stream",
     "text": [
      "<class 'list'>\n",
      "3\n",
      "<class 'str'>\n",
      "5\n"
     ]
    }
   ],
   "source": [
    "usernames = [\"user1\",\"user2\",\"user3\"]\n",
    "print(type(usernames))\n",
    "print(len(usernames))\n",
    "print(type(usernames[0]))\n",
    "print(len(usernames[-1]))"
   ]
  },
  {
   "cell_type": "code",
   "execution_count": 8,
   "metadata": {},
   "outputs": [
    {
     "name": "stdout",
     "output_type": "stream",
     "text": [
      "They dont start with same letter\n",
      "esarhp trohs a si sihT\n",
      "eno suoiverp eht naht esarhp regnol yltnacifingis a yllautca si sihT\n"
     ]
    }
   ],
   "source": [
    "phrase1 = \"Clean Couch\"\n",
    "phrase2 = \"Giant Table\"\n",
    "\n",
    "if phrase1.strip()[0] == phrase2.strip()[0]:\n",
    "    print(\"They both start with same letter\")\n",
    "else:\n",
    "    print(\"They dont start with same letter\")\n",
    "    \n",
    "my_string1 = \"This is a short phrase\"\n",
    "print(my_string1[::-1])\n",
    "my_string2 = 'This is actually a significantly longer phrase than the previous one'\n",
    "print(my_string2[::-1])\n"
   ]
  },
  {
   "cell_type": "code",
   "execution_count": 9,
   "metadata": {},
   "outputs": [],
   "source": [
    "number_plates = [\"G06 WTR\", \"WL11 WFL\", \"QW68 PQR\"]\n"
   ]
  },
  {
   "cell_type": "code",
   "execution_count": 10,
   "metadata": {},
   "outputs": [
    {
     "data": {
      "text/plain": [
       "'Python'"
      ]
     },
     "execution_count": 10,
     "metadata": {},
     "output_type": "execute_result"
    }
   ],
   "source": [
    "one_deep_dictionary = {'start here':1,'k1':[1,2,3,{'k2':[1,2,{'k3':['keep going',{'further':[1,2,3,4,[{'k4':'Python'}]]}]}]}]}\n",
    "one_deep_dictionary[\"k1\"][3][\"k2\"][2][\"k3\"][1][\"further\"][4][0][\"k4\"]"
   ]
  },
  {
   "cell_type": "code",
   "execution_count": 11,
   "metadata": {},
   "outputs": [
    {
     "data": {
      "text/plain": [
       "True"
      ]
     },
     "execution_count": 11,
     "metadata": {},
     "output_type": "execute_result"
    }
   ],
   "source": [
    "99 > 5\n",
    "0 == False\n",
    "1 == True\n",
    "6.2 < 7\n",
    "9 >= 9\n",
    "False < True"
   ]
  },
  {
   "cell_type": "code",
   "execution_count": 12,
   "metadata": {},
   "outputs": [
    {
     "data": {
      "text/plain": [
       "False"
      ]
     },
     "execution_count": 12,
     "metadata": {},
     "output_type": "execute_result"
    }
   ],
   "source": [
    "\"AAA\" > \"BBB\""
   ]
  },
  {
   "cell_type": "code",
   "execution_count": 13,
   "metadata": {},
   "outputs": [
    {
     "data": {
      "text/plain": [
       "True"
      ]
     },
     "execution_count": 13,
     "metadata": {},
     "output_type": "execute_result"
    }
   ],
   "source": [
    "\"AAB\" > \"AAA\""
   ]
  },
  {
   "cell_type": "code",
   "execution_count": 14,
   "metadata": {},
   "outputs": [
    {
     "data": {
      "text/plain": [
       "True"
      ]
     },
     "execution_count": 14,
     "metadata": {},
     "output_type": "execute_result"
    }
   ],
   "source": [
    "\"aaa\" > \"AAA\""
   ]
  },
  {
   "cell_type": "code",
   "execution_count": 15,
   "metadata": {},
   "outputs": [
    {
     "name": "stdout",
     "output_type": "stream",
     "text": [
      "1 is smaller than 10\n"
     ]
    }
   ],
   "source": [
    "x = 10\n",
    "\n",
    "n = int(input(\"user number: \"))\n",
    "\n",
    "if n > x:\n",
    "    print(f\"{n} is greater than {x}\")\n",
    "else:\n",
    "    print(f\"{n} is smaller than {x}\")"
   ]
  },
  {
   "cell_type": "code",
   "execution_count": 16,
   "metadata": {},
   "outputs": [
    {
     "name": "stdout",
     "output_type": "stream",
     "text": [
      "1\n",
      "2\n",
      "3\n",
      "4\n",
      "5\n",
      "6\n",
      "7\n",
      "8\n",
      "9\n",
      "10\n",
      "11\n",
      "12\n",
      "13\n",
      "14\n",
      "15\n",
      "16\n",
      "17\n",
      "18\n",
      "19\n",
      "20\n",
      "21\n",
      "22\n",
      "23\n",
      "24\n",
      "25\n",
      "26\n",
      "27\n",
      "28\n",
      "29\n",
      "30\n",
      "31\n",
      "32\n",
      "33\n",
      "34\n",
      "35\n",
      "36\n",
      "37\n",
      "38\n",
      "39\n",
      "40\n",
      "41\n",
      "42\n",
      "43\n",
      "44\n",
      "45\n",
      "46\n",
      "47\n",
      "48\n",
      "49\n",
      "50\n"
     ]
    }
   ],
   "source": [
    "n = 0\n",
    "while n < 50:\n",
    "    n += 1\n",
    "    print(n)\n",
    "    "
   ]
  },
  {
   "cell_type": "code",
   "execution_count": 17,
   "metadata": {},
   "outputs": [
    {
     "name": "stdout",
     "output_type": "stream",
     "text": [
      "0\n",
      "1\n",
      "2\n",
      "3\n",
      "4\n",
      "5\n",
      "6\n",
      "7\n",
      "8\n",
      "9\n",
      "10\n",
      "11\n",
      "12\n",
      "13\n",
      "14\n",
      "15\n",
      "16\n",
      "17\n",
      "18\n",
      "19\n",
      "20\n",
      "21\n",
      "22\n",
      "23\n",
      "24\n",
      "25\n",
      "26\n",
      "27\n",
      "28\n",
      "29\n",
      "30\n",
      "31\n",
      "32\n",
      "33\n",
      "34\n",
      "35\n",
      "36\n",
      "37\n",
      "38\n",
      "39\n",
      "40\n",
      "41\n",
      "42\n",
      "43\n",
      "44\n",
      "45\n",
      "46\n",
      "47\n",
      "48\n",
      "49\n",
      "50\n"
     ]
    }
   ],
   "source": [
    "for n in range(51):\n",
    "    print(n)"
   ]
  },
  {
   "cell_type": "code",
   "execution_count": 18,
   "metadata": {},
   "outputs": [
    {
     "name": "stdout",
     "output_type": "stream",
     "text": [
      "2\n",
      "4\n",
      "6\n",
      "8\n",
      "10\n",
      "12\n",
      "14\n",
      "16\n",
      "18\n",
      "20\n",
      "22\n",
      "24\n",
      "26\n",
      "28\n",
      "30\n",
      "32\n",
      "34\n",
      "36\n",
      "38\n",
      "40\n",
      "42\n",
      "44\n",
      "46\n",
      "48\n",
      "50\n"
     ]
    }
   ],
   "source": [
    "n = 0\n",
    "\n",
    "while n < 50:\n",
    "    n += 2\n",
    "    print(n)"
   ]
  },
  {
   "cell_type": "code",
   "execution_count": 19,
   "metadata": {},
   "outputs": [
    {
     "name": "stdout",
     "output_type": "stream",
     "text": [
      "0\n",
      "2\n",
      "4\n",
      "6\n",
      "8\n",
      "10\n",
      "12\n",
      "14\n",
      "16\n",
      "18\n",
      "20\n",
      "22\n",
      "24\n",
      "26\n",
      "28\n",
      "30\n",
      "32\n",
      "34\n",
      "36\n",
      "38\n",
      "40\n",
      "42\n",
      "44\n",
      "46\n",
      "48\n",
      "50\n"
     ]
    }
   ],
   "source": [
    "for n in range(0,51,2):\n",
    "    print(n)"
   ]
  },
  {
   "cell_type": "code",
   "execution_count": 20,
   "metadata": {},
   "outputs": [
    {
     "name": "stdout",
     "output_type": "stream",
     "text": [
      "0\n",
      "2\n",
      "6\n",
      "12\n",
      "20\n",
      "30\n",
      "42\n",
      "56\n",
      "72\n",
      "90\n",
      "110\n",
      "132\n",
      "156\n",
      "182\n",
      "210\n",
      "240\n",
      "272\n",
      "306\n",
      "342\n",
      "380\n",
      "420\n",
      "462\n",
      "506\n",
      "552\n",
      "600\n",
      "650\n",
      "702\n",
      "756\n",
      "812\n",
      "870\n",
      "930\n",
      "992\n",
      "1056\n",
      "1122\n",
      "1190\n",
      "1260\n",
      "1332\n",
      "1406\n",
      "1482\n",
      "1560\n",
      "1640\n",
      "1722\n",
      "1806\n",
      "1892\n",
      "1980\n",
      "2070\n",
      "2162\n",
      "2256\n",
      "2352\n",
      "2450\n"
     ]
    }
   ],
   "source": [
    "total = 0\n",
    "for n in range(0,100,2):\n",
    "    total += n\n",
    "    print(total)\n"
   ]
  },
  {
   "cell_type": "code",
   "execution_count": 21,
   "metadata": {},
   "outputs": [
    {
     "name": "stdout",
     "output_type": "stream",
     "text": [
      "1\n",
      "4\n",
      "9\n",
      "16\n",
      "25\n",
      "36\n",
      "49\n",
      "64\n",
      "81\n",
      "100\n",
      "121\n",
      "144\n",
      "169\n",
      "196\n",
      "225\n",
      "256\n",
      "289\n",
      "324\n",
      "361\n",
      "400\n",
      "441\n",
      "484\n",
      "529\n",
      "576\n",
      "625\n",
      "676\n",
      "729\n",
      "784\n",
      "841\n",
      "900\n",
      "961\n",
      "1024\n",
      "1089\n",
      "1156\n",
      "1225\n",
      "1296\n",
      "1369\n",
      "1444\n",
      "1521\n",
      "1600\n",
      "1681\n",
      "1764\n",
      "1849\n",
      "1936\n",
      "2025\n",
      "2116\n",
      "2209\n",
      "2304\n",
      "2401\n",
      "2500\n"
     ]
    }
   ],
   "source": [
    "total = 0\n",
    "for n in range(1,100,2):\n",
    "    \n",
    "    if n % 2 !=0:\n",
    "        total = total + n\n",
    "        print(total)"
   ]
  },
  {
   "cell_type": "code",
   "execution_count": 22,
   "metadata": {},
   "outputs": [
    {
     "name": "stdout",
     "output_type": "stream",
     "text": [
      "FizzBuzz\n",
      "1\n",
      "2\n",
      "fizz\n",
      "4\n",
      "Buzz\n",
      "fizz\n",
      "7\n",
      "8\n",
      "fizz\n",
      "Buzz\n",
      "11\n",
      "fizz\n",
      "13\n",
      "14\n",
      "FizzBuzz\n",
      "16\n",
      "17\n",
      "fizz\n",
      "19\n",
      "Buzz\n",
      "fizz\n",
      "22\n",
      "23\n",
      "fizz\n",
      "Buzz\n",
      "26\n",
      "fizz\n",
      "28\n",
      "29\n",
      "FizzBuzz\n",
      "31\n",
      "32\n",
      "fizz\n",
      "34\n",
      "Buzz\n",
      "fizz\n",
      "37\n",
      "38\n",
      "fizz\n",
      "Buzz\n",
      "41\n",
      "fizz\n",
      "43\n",
      "44\n",
      "FizzBuzz\n",
      "46\n",
      "47\n",
      "fizz\n",
      "49\n",
      "Buzz\n",
      "fizz\n",
      "52\n",
      "53\n",
      "fizz\n",
      "Buzz\n",
      "56\n",
      "fizz\n",
      "58\n",
      "59\n",
      "FizzBuzz\n",
      "61\n",
      "62\n",
      "fizz\n",
      "64\n",
      "Buzz\n",
      "fizz\n",
      "67\n",
      "68\n",
      "fizz\n",
      "Buzz\n",
      "71\n",
      "fizz\n",
      "73\n",
      "74\n",
      "FizzBuzz\n",
      "76\n",
      "77\n",
      "fizz\n",
      "79\n",
      "Buzz\n",
      "fizz\n",
      "82\n",
      "83\n",
      "fizz\n",
      "Buzz\n",
      "86\n",
      "fizz\n",
      "88\n",
      "89\n",
      "FizzBuzz\n",
      "91\n",
      "92\n",
      "fizz\n",
      "94\n",
      "Buzz\n",
      "fizz\n",
      "97\n",
      "98\n",
      "fizz\n",
      "Buzz\n"
     ]
    }
   ],
   "source": [
    "for n in range(101):\n",
    "    if n % 3 == 0 and n % 5 == 0:\n",
    "        print(\"FizzBuzz\")\n",
    "    elif n % 3 == 0:\n",
    "        print(\"fizz\")\n",
    "    elif n % 5 == 0:\n",
    "        print(\"Buzz\")\n",
    "    else:\n",
    "        print(n)        "
   ]
  },
  {
   "cell_type": "code",
   "execution_count": 23,
   "metadata": {},
   "outputs": [
    {
     "name": "stdout",
     "output_type": "stream",
     "text": [
      "The lists are the same.\n"
     ]
    }
   ],
   "source": [
    "list_1 = [1, 2, 3]\n",
    "list_2 = [1, 2, 3]\n",
    "if list_1 == list_2:\n",
    "    print('The lists are the same.')\n",
    "else:\n",
    "    print('The lists are different.')"
   ]
  },
  {
   "cell_type": "code",
   "execution_count": 24,
   "metadata": {},
   "outputs": [],
   "source": [
    "def rps():\n",
    "    player_one_score = 0\n",
    "    player_two_score = 0\n",
    "    \n",
    "    while True:\n",
    "    \n",
    "        user1 = input(\"Rock Paper Scissors shoot:  \")\n",
    "        user2 = input(\"Rock Paper Scissors shoot:  \")\n",
    "        \n",
    "        if player_one_score == 3:\n",
    "            print(\"The game has ended\")\n",
    "            break\n",
    "        elif player_two_score == 3:\n",
    "            print(\"The game has ended\")\n",
    "            break\n",
    "        elif user1 == \"scissors\" and user2 == \"paper\":\n",
    "            print(\"player 1 wins this round\")\n",
    "            player_one_score += 1\n",
    "        elif user1 == \"rock\" and user2 == \"scissors\":\n",
    "            print(\"player 1 wins this round\")\n",
    "            player_one_score += 1\n",
    "        elif user1 == \"paper\" and user2 == \"rock\":\n",
    "            print(\"player 1 wins this round\")\n",
    "            player_one_score += 1\n",
    "        elif user1 == user2:\n",
    "            print(\"It is a draw\")\n",
    "        else:\n",
    "            print(\"Player 2 wins this round\")\n",
    "            player_two_score +=1\n",
    "            "
   ]
  },
  {
   "cell_type": "code",
   "execution_count": 25,
   "metadata": {},
   "outputs": [
    {
     "name": "stdout",
     "output_type": "stream",
     "text": [
      "Player 2 wins this round\n",
      "Player 2 wins this round\n",
      "It is a draw\n",
      "It is a draw\n",
      "Player 2 wins this round\n",
      "The game has ended\n"
     ]
    }
   ],
   "source": [
    "#rps()"
   ]
  },
  {
   "cell_type": "code",
   "execution_count": 26,
   "metadata": {},
   "outputs": [
    {
     "name": "stdout",
     "output_type": "stream",
     "text": [
      "['Tomatoes']\n",
      "['Tomatoes', 'Sugar']\n",
      "['Tomatoes', 'Sugar', 'Washing Sponges']\n",
      "['Tomatoes', 'Sugar', 'Washing Sponges', 'Juice']\n",
      "['Tomatoes', 'Sugar', 'Washing Sponges', 'Juice', 'Foil']\n",
      "You have exceed the budget by $-2.38\n"
     ]
    }
   ],
   "source": [
    "# Each element is the product code, the individual price, and the quantity.\n",
    "order_list = [(\"tom\", 0.87, 4),\n",
    "              (\"sug\", 1.09, 3),\n",
    "              (\"ws\", 0.29, 4),\n",
    "              (\"juc\", 1.89, 1),\n",
    "              (\"fo\", 1.29, 2)]\n",
    "\n",
    "# This dictionary gives the full name of each product code.\n",
    "names = {\"tom\": \"Tomatoes\",\n",
    "         \"sug\": \"Sugar\",\n",
    "         \"ws\": \"Washing Sponges\",\n",
    "         \"juc\": \"Juice\",\n",
    "         \"fo\": \"Foil\"}\n",
    "\n",
    "budget = 10.00\n",
    "running_total = 0\n",
    "receipt = []\n",
    "\n",
    "for x in range(len(order_list)):\n",
    "    receipt.append(names[order_list[x][0]])\n",
    "    individual_total = order_list[x][1] * order_list[x][2]\n",
    "    running_total += individual_total\n",
    "    print(receipt)\n",
    "    budget -= individual_total\n",
    "    if budget < 0:\n",
    "        print(f\"You have exceed the budget by ${round(budget,2)}\")\n",
    "        break\n",
    "\n"
   ]
  },
  {
   "cell_type": "code",
   "execution_count": 27,
   "metadata": {},
   "outputs": [
    {
     "name": "stdout",
     "output_type": "stream",
     "text": [
      "[4, 36, 64, 36, 484]\n"
     ]
    },
    {
     "data": {
      "text/plain": [
       "' The code above is the same as this\\n\\nfor x in range(len(my_list):\\n    if my_list[x] % 2 == 0:\\n        my_list[x] **= 2\\n    else:\\n        my_list[x] = (my_list[x]+1)**2\\n        \\nList comprehension \\n\\nmy_list = [what to do with elements in list | if statement | else statement follow by what to do | for loop ]\\n '"
      ]
     },
     "execution_count": 27,
     "metadata": {},
     "output_type": "execute_result"
    }
   ],
   "source": [
    "my_list = [1,5,8,6,21]\n",
    "\n",
    "my_list = [my_list[x]**2 if my_list[x] % 2 ==0 else (my_list[x] + 1 )**2 for x in range(len(my_list))]\n",
    "\n",
    "print(my_list)\n",
    "\n",
    "''' The code above is the same as this\n",
    "\n",
    "for x in range(len(my_list):\n",
    "    if my_list[x] % 2 == 0:\n",
    "        my_list[x] **= 2\n",
    "    else:\n",
    "        my_list[x] = (my_list[x]+1)**2\n",
    "        \n",
    "List comprehension \n",
    "\n",
    "my_list = [what to do with elements in list | if statement | else statement follow by what to do | for loop ]\n",
    " '''\n"
   ]
  },
  {
   "cell_type": "code",
   "execution_count": 28,
   "metadata": {},
   "outputs": [
    {
     "data": {
      "text/plain": [
       "['Sugar', 'Coca-Cola', 'Coca-Cola Zero']"
      ]
     },
     "execution_count": 28,
     "metadata": {},
     "output_type": "execute_result"
    }
   ],
   "source": [
    "shop_dict = {\"tom\":0.87, \"sug\":1.09, \"ws\":0.29, \"cc\":1.89, \"ccz\":1.29}\n",
    "\n",
    "names_dict = {\"tom\":\"Tomatoes\", \"sug\":\"Sugar\", \"ws\":\"Washing Sponges\", \"cc\":\"Coca-Cola\", \"ccz\":\"Coca-Cola Zero\"}\n",
    "\n",
    "\n",
    "shop_dict_keys = list(shop_dict.keys())\n",
    "\n",
    "filtered_shop = [names_dict[shop_dict_keys[n]] for n in range(len(shop_dict)) if shop_dict[shop_dict_keys[n]] > 1]\n",
    "\n",
    "filtered_shop\n"
   ]
  },
  {
   "cell_type": "code",
   "execution_count": 29,
   "metadata": {},
   "outputs": [
    {
     "name": "stdout",
     "output_type": "stream",
     "text": [
      "9\n"
     ]
    }
   ],
   "source": [
    "def func1(y):\n",
    "    return y**2\n",
    "\n",
    "x = func1(3)\n",
    "print(x)"
   ]
  },
  {
   "cell_type": "code",
   "execution_count": 31,
   "metadata": {},
   "outputs": [
    {
     "name": "stdout",
     "output_type": "stream",
     "text": [
      "9\n",
      "3\n"
     ]
    }
   ],
   "source": [
    "func2 = lambda y: y**2\n",
    "\n",
    "x1 = func2(3)\n",
    "print(x1)\n",
    "\n",
    "func3 = lambda y1,y2: y1+y2\n",
    "x2 = func3(1,2)\n",
    "print(x2)"
   ]
  },
  {
   "cell_type": "code",
   "execution_count": 32,
   "metadata": {},
   "outputs": [
    {
     "name": "stdout",
     "output_type": "stream",
     "text": [
      "27\n",
      "12\n"
     ]
    }
   ],
   "source": [
    "func4 = lambda y:y**3\n",
    "\n",
    "x1 = func4(3)\n",
    "print(x1)\n",
    "\n",
    "func5 = lambda y1,y2: y1*y2\n",
    "\n",
    "x3 = func5(3,4)\n",
    "print(x3)"
   ]
  },
  {
   "cell_type": "code",
   "execution_count": 36,
   "metadata": {},
   "outputs": [
    {
     "data": {
      "text/plain": [
       "[('Water', 13), ('Fire', 58), ('David', 251), ('Mike', 341), ('Paper', 423)]"
      ]
     },
     "execution_count": 36,
     "metadata": {},
     "output_type": "execute_result"
    }
   ],
   "source": [
    "list1 = [(\"Mike\",341),(\"David\",251),(\"Paper\",423),(\"Water\",13),(\"Fire\",58)]\n",
    "\n",
    "sorted(list1, key = lambda x:x[1])"
   ]
  },
  {
   "cell_type": "code",
   "execution_count": 37,
   "metadata": {},
   "outputs": [
    {
     "data": {
      "text/plain": [
       "[('David', 251), ('Fire', 58), ('Mike', 341), ('Paper', 423), ('Water', 13)]"
      ]
     },
     "execution_count": 37,
     "metadata": {},
     "output_type": "execute_result"
    }
   ],
   "source": [
    "sorted(list1, key = lambda x:x[0])"
   ]
  },
  {
   "cell_type": "code",
   "execution_count": 38,
   "metadata": {},
   "outputs": [
    {
     "data": {
      "text/plain": [
       "[('Mike', 341), ('Fire', 58), ('David', 251), ('Paper', 423), ('Water', 13)]"
      ]
     },
     "execution_count": 38,
     "metadata": {},
     "output_type": "execute_result"
    }
   ],
   "source": [
    "sorted(list1, key = lambda x:len(x[0]))"
   ]
  },
  {
   "cell_type": "code",
   "execution_count": 39,
   "metadata": {},
   "outputs": [
    {
     "data": {
      "text/plain": [
       "[('David', 251), ('Paper', 423), ('Water', 13), ('Mike', 341), ('Fire', 58)]"
      ]
     },
     "execution_count": 39,
     "metadata": {},
     "output_type": "execute_result"
    }
   ],
   "source": [
    "sorted(list1, key = lambda x:len(x[0]), reverse = True)"
   ]
  },
  {
   "cell_type": "code",
   "execution_count": 45,
   "metadata": {},
   "outputs": [
    {
     "name": "stdout",
     "output_type": "stream",
     "text": [
      "[25, 54756, 5625, 144, 3249]\n",
      "[125, 12812904, 421875, 1728, 185193]\n",
      "[125, 54756, 421875, 144, 185193]\n"
     ]
    }
   ],
   "source": [
    "list2 = [5,234,75,12,57]\n",
    "\n",
    "lam_num2 = map(lambda x: x**2, list2)\n",
    "print(list(lam_num2))\n",
    "\n",
    "lam_num3 = map(lambda x: x**3, list2)\n",
    "print(list(lam_num3))\n",
    "\n",
    "lam_num4 = map(lambda x: x**2 if x %2 == 0 else x**3,list2)\n",
    "print(list(lam_num4))"
   ]
  },
  {
   "cell_type": "code",
   "execution_count": 48,
   "metadata": {},
   "outputs": [
    {
     "name": "stdout",
     "output_type": "stream",
     "text": [
      "['Water', 'Apple']\n"
     ]
    }
   ],
   "source": [
    "list4 = [\"Water\",\"Computer\",\"Beckham\",\"Iphone\",\"Samsung\",\"Apple\",\"Orange\",\"Plastic\",\"Scissors\",\"Headphones\"]\n",
    "\n",
    "lam_num5 = filter(lambda x: len(x) < 6, list4)\n",
    "print(list(lam_num5))"
   ]
  },
  {
   "cell_type": "code",
   "execution_count": null,
   "metadata": {},
   "outputs": [],
   "source": []
  }
 ],
 "metadata": {
  "kernelspec": {
   "display_name": "Python 3.10.6 ('AiCore')",
   "language": "python",
   "name": "python3"
  },
  "language_info": {
   "codemirror_mode": {
    "name": "ipython",
    "version": 3
   },
   "file_extension": ".py",
   "mimetype": "text/x-python",
   "name": "python",
   "nbconvert_exporter": "python",
   "pygments_lexer": "ipython3",
   "version": "3.10.6"
  },
  "orig_nbformat": 4,
  "vscode": {
   "interpreter": {
    "hash": "93679613e3cebab5e8a511853664dad7f420d124da3050670fb8bb4cc769be6a"
   }
  }
 },
 "nbformat": 4,
 "nbformat_minor": 2
}
