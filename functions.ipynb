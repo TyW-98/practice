{
 "cells": [
  {
   "cell_type": "code",
   "execution_count": 1,
   "metadata": {},
   "outputs": [],
   "source": [
    "def void_function():\n",
    "    print(\"This is a void function\")\n",
    "    \n",
    "    return\n"
   ]
  },
  {
   "cell_type": "code",
   "execution_count": 2,
   "metadata": {},
   "outputs": [
    {
     "name": "stdout",
     "output_type": "stream",
     "text": [
      "This is a void function\n"
     ]
    }
   ],
   "source": [
    "void_function()"
   ]
  },
  {
   "cell_type": "code",
   "execution_count": 3,
   "metadata": {},
   "outputs": [],
   "source": [
    "def in_range(lower_bound, upper_bound, x):\n",
    "    if lower_bound < x < upper_bound:\n",
    "        print(f'{x} is between {lower_bound} and {upper_bound}')\n",
    "    else:\n",
    "        print(f'{x} is NOT between {lower_bound} and {upper_bound}')\n",
    "        \n",
    "    return"
   ]
  },
  {
   "cell_type": "code",
   "execution_count": 4,
   "metadata": {},
   "outputs": [
    {
     "name": "stdout",
     "output_type": "stream",
     "text": [
      "2 is NOT between 5 and 10\n"
     ]
    }
   ],
   "source": [
    "in_range(5,10,2)"
   ]
  },
  {
   "cell_type": "code",
   "execution_count": 5,
   "metadata": {},
   "outputs": [
    {
     "name": "stdout",
     "output_type": "stream",
     "text": [
      "4 is between 0 and 10\n"
     ]
    }
   ],
   "source": [
    "in_range(0,10,4)"
   ]
  },
  {
   "cell_type": "code",
   "execution_count": 7,
   "metadata": {},
   "outputs": [],
   "source": [
    "import numpy as np\n",
    "\n",
    "def volume_of_sphere(radius):\n",
    "    volume = round(4/3*np.pi*radius,2)\n",
    "    \n",
    "    return volume"
   ]
  },
  {
   "cell_type": "code",
   "execution_count": 8,
   "metadata": {},
   "outputs": [
    {
     "data": {
      "text/plain": [
       "41.89"
      ]
     },
     "execution_count": 8,
     "metadata": {},
     "output_type": "execute_result"
    }
   ],
   "source": [
    "volume_of_sphere(10)"
   ]
  },
  {
   "cell_type": "code",
   "execution_count": 28,
   "metadata": {},
   "outputs": [],
   "source": [
    "def clothing(*arg, **kwargs):\n",
    "    \n",
    "    for k,v in kwargs.items():\n",
    "        if k in arg:\n",
    "            print(f'{k} cost $ {v}')\n",
    "        else:\n",
    "            print(\"Key does not exist\")\n",
    "    \n",
    "    return\n",
    "    \n",
    "    "
   ]
  },
  {
   "cell_type": "code",
   "execution_count": 29,
   "metadata": {},
   "outputs": [
    {
     "name": "stdout",
     "output_type": "stream",
     "text": [
      "abc cost $ 123\n",
      "Key does not exist\n"
     ]
    }
   ],
   "source": [
    "clothing(\"pants\", \"abc\", abc = 123, shirt = 222)"
   ]
  },
  {
   "cell_type": "code",
   "execution_count": 56,
   "metadata": {},
   "outputs": [],
   "source": [
    "def profile_validation(name,age,email):\n",
    "    invalid_char = \"!@£$%^&*()\"\n",
    "    invalid_char = list(invalid_char.strip(\" \"))\n",
    "    \n",
    "    print(invalid_char)\n",
    "    \n",
    "    if any(inval_char not in name for inval_char in invalid_char) and age > 12 and \"@\" in email:\n",
    "        print(f\"Your name is {name}. You are {age} years old and your email address is {email}\")\n",
    "    else:\n",
    "        print(\"You must be above 12 years old and your email must consist of the @ symbol\")"
   ]
  },
  {
   "cell_type": "code",
   "execution_count": 58,
   "metadata": {},
   "outputs": [
    {
     "name": "stdout",
     "output_type": "stream",
     "text": [
      "['!', '@', '£', '$', '%', '^', '&', '*', '(', ')']\n",
      "You must be above 12 years old and your email must consist of the @ symbol\n"
     ]
    }
   ],
   "source": [
    "profile_validation(\"abc\",10,\"asdjas@gasdas.com\")"
   ]
  },
  {
   "cell_type": "code",
   "execution_count": 63,
   "metadata": {},
   "outputs": [],
   "source": [
    "def getfactorial(x):\n",
    "    if x == 0:\n",
    "        return 1\n",
    "    else:\n",
    "       return (x * getfactorial(x-1)) "
   ]
  },
  {
   "cell_type": "code",
   "execution_count": 64,
   "metadata": {},
   "outputs": [
    {
     "data": {
      "text/plain": [
       "120"
      ]
     },
     "execution_count": 64,
     "metadata": {},
     "output_type": "execute_result"
    }
   ],
   "source": [
    "getfactorial(5)"
   ]
  },
  {
   "cell_type": "code",
   "execution_count": 65,
   "metadata": {},
   "outputs": [],
   "source": [
    "def fibonnaci(n):\n",
    "    if n == 1 or n == 2:\n",
    "        return 1\n",
    "    else:\n",
    "        return fibonnaci(n-1) + fibonnaci(n-2)"
   ]
  },
  {
   "cell_type": "code",
   "execution_count": 66,
   "metadata": {},
   "outputs": [
    {
     "data": {
      "text/plain": [
       "55"
      ]
     },
     "execution_count": 66,
     "metadata": {},
     "output_type": "execute_result"
    }
   ],
   "source": [
    "fibonnaci(10)"
   ]
  },
  {
   "cell_type": "code",
   "execution_count": 77,
   "metadata": {},
   "outputs": [],
   "source": [
    "def mod7(n):\n",
    "    if n % 7 != 0:\n",
    "        print(\"False\")\n",
    "    else:\n",
    "        print(\"True\")\n",
    "        \n",
    "def fibo_loop(n):        \n",
    "    lst1 = [0,1]\n",
    "    for i in range(n):\n",
    "        lst1.append(lst1[-1]+lst1[-2])\n",
    "        mod7(lst1[-1])\n",
    "        \n",
    "    return lst1[-2]\n",
    "    "
   ]
  },
  {
   "cell_type": "code",
   "execution_count": 78,
   "metadata": {},
   "outputs": [
    {
     "name": "stdout",
     "output_type": "stream",
     "text": [
      "False\n"
     ]
    }
   ],
   "source": [
    "mod7(10)"
   ]
  },
  {
   "cell_type": "code",
   "execution_count": 79,
   "metadata": {},
   "outputs": [
    {
     "name": "stdout",
     "output_type": "stream",
     "text": [
      "False\n",
      "False\n",
      "False\n",
      "False\n",
      "False\n",
      "False\n",
      "True\n",
      "False\n",
      "False\n",
      "False\n"
     ]
    },
    {
     "data": {
      "text/plain": [
       "55"
      ]
     },
     "execution_count": 79,
     "metadata": {},
     "output_type": "execute_result"
    }
   ],
   "source": [
    "fibo_loop(10)"
   ]
  },
  {
   "cell_type": "code",
   "execution_count": null,
   "metadata": {},
   "outputs": [],
   "source": []
  }
 ],
 "metadata": {
  "kernelspec": {
   "display_name": "Python 3.10.6 ('AiCore')",
   "language": "python",
   "name": "python3"
  },
  "language_info": {
   "codemirror_mode": {
    "name": "ipython",
    "version": 3
   },
   "file_extension": ".py",
   "mimetype": "text/x-python",
   "name": "python",
   "nbconvert_exporter": "python",
   "pygments_lexer": "ipython3",
   "version": "3.10.6"
  },
  "orig_nbformat": 4,
  "vscode": {
   "interpreter": {
    "hash": "93679613e3cebab5e8a511853664dad7f420d124da3050670fb8bb4cc769be6a"
   }
  }
 },
 "nbformat": 4,
 "nbformat_minor": 2
}
